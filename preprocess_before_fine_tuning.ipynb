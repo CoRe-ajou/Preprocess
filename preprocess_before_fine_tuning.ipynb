{
  "nbformat": 4,
  "nbformat_minor": 0,
  "metadata": {
    "colab": {
      "name": "preprocess_before_fine tuning.ipynb",
      "provenance": [],
      "collapsed_sections": []
    },
    "kernelspec": {
      "name": "python3",
      "display_name": "Python 3"
    }
  },
  "cells": [
    {
      "cell_type": "markdown",
      "metadata": {
        "id": "fK2MfSQFtMy3"
      },
      "source": [
        "**google drive mount**"
      ]
    },
    {
      "cell_type": "code",
      "metadata": {
        "colab": {
          "base_uri": "https://localhost:8080/"
        },
        "id": "jvbTineZtLv3",
        "outputId": "368660da-416e-455d-afe2-8ab4399fbee9"
      },
      "source": [
        "from google.colab import drive\r\n",
        "drive.mount('/content/drive')\r\n"
      ],
      "execution_count": 1,
      "outputs": [
        {
          "output_type": "stream",
          "text": [
            "Mounted at /content/drive\n"
          ],
          "name": "stdout"
        }
      ]
    },
    {
      "cell_type": "markdown",
      "metadata": {
        "id": "gDfodAIS2Yq-"
      },
      "source": [
        "**weighted sampling - 오버 샘플링 like 네이버 클린봇 - 32배**"
      ]
    },
    {
      "cell_type": "code",
      "metadata": {
        "colab": {
          "base_uri": "https://localhost:8080/"
        },
        "id": "FCc67St92X9S",
        "outputId": "c573d691-4d2a-4fcf-c5e0-f01fc1b45c84"
      },
      "source": [
        "# -*- coding: utf-8 -*-\r\n",
        "import csv\r\n",
        "import numpy as np\r\n",
        "import math\r\n",
        "import pandas as pd\r\n",
        "import re\r\n",
        "\r\n",
        "# count result\r\n",
        "notbad = 0\r\n",
        "bad = 0\r\n",
        "\r\n",
        "#output_file\r\n",
        "output_file_bad = r'/content/drive/MyDrive/training_data/result_bad.csv'\r\n",
        "output_file_notbad = r'/content/drive/MyDrive/training_data/result_notbad.csv'\r\n",
        "\r\n",
        "def concatenation(file_path):\r\n",
        "    \r\n",
        "    global notbad\r\n",
        "    global bad \r\n",
        "    #checkthirtytwo = 0\r\n",
        "\r\n",
        "    if (file_path == '/content/drive/MyDrive/training_data/youtube_comments2.csv' or file_path == '/content/drive/MyDrive/training_data/youtube_comments3.csv' or file_path == '/content/drive/MyDrive/training_data/youtube_comments4.csv') :\r\n",
        "      f_read = open(file_path, 'r')\r\n",
        "      rdr = csv.reader(f_read)\r\n",
        "    else : \r\n",
        "      f_read = open(file_path, 'r', encoding = 'cp949')\r\n",
        "      rdr = csv.reader(f_read)\r\n",
        "\r\n",
        "    f_write_bad = open(output_file_bad, 'a', newline='')\r\n",
        "    wr_bad = csv.writer(f_write_bad)\r\n",
        "\r\n",
        "    f_write_notbad = open(output_file_notbad, 'a', newline='')\r\n",
        "    wr_notbad = csv.writer(f_write_notbad)\r\n",
        "\r\n",
        "\r\n",
        "    for line in rdr:\r\n",
        "\r\n",
        "        line = list(map(str.strip, line))\r\n",
        "        if line:\r\n",
        "            if line[1]!='1':\r\n",
        "                \r\n",
        "                line[0] = re.sub(r'[!\"#$%&\\'()*+,-./:;<=>?@\\[\\]^_\\`{|}~\\\\\\\\]','', line[0])\r\n",
        "\r\n",
        "                if line[1]=='2':                   \r\n",
        "                      bad +=1\r\n",
        "                      line[1] = 1\r\n",
        "                      wr_bad.writerow([line[0], line[1]])\r\n",
        "\r\n",
        "                elif line[1] == '0':\r\n",
        "                    notbad +=1\r\n",
        "                    wr_notbad.writerow([line[0], line[1]])\r\n",
        "\r\n",
        "        \r\n",
        "concatenation('/content/drive/MyDrive/training_data/youtube_comments.csv')\r\n",
        "concatenation('/content/drive/MyDrive/training_data/youtube_comments2.csv')\r\n",
        "concatenation('/content/drive/MyDrive/training_data/youtube_comments3.csv')\r\n",
        "concatenation('/content/drive/MyDrive/training_data/youtube_comments4.csv')\r\n",
        "concatenation('/content/drive/MyDrive/training_data/youtube_comments5.csv')\r\n",
        "concatenation('/content/drive/MyDrive/training_data/youtube_comments6.csv')\r\n",
        "concatenation('/content/drive/MyDrive/training_data/youtube_comments7.csv')\r\n",
        "concatenation('/content/drive/MyDrive/training_data/youtube_comments8.csv')\r\n",
        "\r\n",
        "print(\"bad comments : \", bad)\r\n",
        "print(\"normal comments : \", notbad)\r\n",
        "\r\n",
        "#21 multiplying bad comments csv data\r\n",
        "\r\n",
        "#input_file\r\n",
        "input_file_bad = r'/content/drive/MyDrive/training_data/result_bad.csv'\r\n",
        "input_file_notbad = r'/content/drive/MyDrive/training_data/result_notbad.csv'\r\n",
        "\r\n",
        "#output_file\r\n",
        "output_file_realResult = r'/content/drive/MyDrive/training_data/labelling_result.csv'\r\n",
        "\r\n",
        "def doubling_and_combining():\r\n",
        "    \r\n",
        "    global notbad\r\n",
        "    global bad \r\n",
        "    checkthirtytwo = 0\r\n",
        "    notbad = 0\r\n",
        "    bad = 0\r\n",
        "\r\n",
        "    while checkthirtytwo < 21 :\r\n",
        "      \r\n",
        "      checkthirtytwo += 1\r\n",
        "\r\n",
        "      f_read = open(input_file_bad, 'r', encoding='utf-8')\r\n",
        "      rdr = csv.reader(f_read)\r\n",
        "\r\n",
        "      f_write = open(output_file_realResult, 'a',newline='')\r\n",
        "      wr = csv.writer(f_write)\r\n",
        "\r\n",
        "      for line in rdr:\r\n",
        "        line = list(map(str.strip, line))\r\n",
        "        if line:\r\n",
        "          wr.writerow([line[0], line[1]])\r\n",
        "          bad += 1\r\n",
        "\r\n",
        "    f_read = open(input_file_notbad, 'r', encoding='utf-8')\r\n",
        "    rdr = csv.reader(f_read)\r\n",
        "\r\n",
        "    for line in rdr :\r\n",
        "      line = list(map(str.strip, line))\r\n",
        "      if line:\r\n",
        "        wr.writerow([line[0],line[1]])\r\n",
        "        notbad += 1\r\n",
        "\r\n",
        "doubling_and_combining()\r\n",
        "\r\n",
        "print(\"bad comments : \", bad)\r\n",
        "print(\"normal comments : \", notbad)\r\n",
        "\r\n",
        "# have to add 279 bad comments more to make 1:1\r\n",
        "\r\n",
        "f_read = open(input_file_bad,'r',encoding='utf-8')\r\n",
        "rdr_last = csv.reader(f_read)\r\n",
        "\r\n",
        "f_write = open(output_file_realResult, 'a',newline='')\r\n",
        "wr = csv.writer(f_write)\r\n",
        "\r\n",
        "check = 0\r\n",
        "\r\n",
        "for line in rdr_last :\r\n",
        "  line = list(map(str.strip, line))\r\n",
        "  if line:\r\n",
        "    check += 1\r\n",
        "    if check <= 279 :\r\n",
        "      wr.writerow([line[0], line[1]])\r\n",
        "      bad += 1\r\n",
        "\r\n",
        "print(\"bad comments : \", bad)\r\n",
        "print(\"normal comments : \", notbad)\r\n"
      ],
      "execution_count": 9,
      "outputs": [
        {
          "output_type": "stream",
          "text": [
            "bad comments :  424\n",
            "normal comments :  9183\n",
            "bad comments :  8904\n",
            "normal comments :  9183\n",
            "bad comments :  9183\n",
            "normal comments :  9183\n"
          ],
          "name": "stdout"
        }
      ]
    },
    {
      "cell_type": "markdown",
      "metadata": {
        "id": "Lj6jKCnCyXBS"
      },
      "source": [
        "**csv to text**"
      ]
    },
    {
      "cell_type": "code",
      "metadata": {
        "colab": {
          "base_uri": "https://localhost:8080/"
        },
        "id": "ZzEfiU4iyl2O",
        "outputId": "4a6e802c-28ce-48e6-d4b3-a9e87888d52d"
      },
      "source": [
        "import csv\r\n",
        "\r\n",
        "csv_file = input()\r\n",
        "txt_file = input()\r\n",
        "#'/content/drive/MyDrive/training_data/labelling_result.csv'\r\n",
        "#'/content/drive/MyDrive/training_data/labelling_result.txt'\r\n",
        "\r\n",
        "with open(txt_file, \"w\") as my_output_file:\r\n",
        "    with open(csv_file, \"r\") as my_input_file:\r\n",
        "        [ my_output_file.write(\" \".join(row)+'\\n') for row in csv.reader(my_input_file)]\r\n",
        "    my_output_file.close()"
      ],
      "execution_count": 11,
      "outputs": [
        {
          "output_type": "stream",
          "text": [
            "/content/drive/MyDrive/training_data/labelling_result.csv\n",
            "/content/drive/MyDrive/training_data/labelling_result.txt\n"
          ],
          "name": "stdout"
        }
      ]
    }
  ]
}